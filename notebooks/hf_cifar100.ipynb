{
 "cells": [
  {
   "cell_type": "markdown",
   "metadata": {},
   "source": [
    "# Using a Vision Transformer on CIFAR-100"
   ]
  },
  {
   "cell_type": "markdown",
   "metadata": {},
   "source": [
    "## Imports"
   ]
  },
  {
   "cell_type": "code",
   "execution_count": null,
   "metadata": {
    "vscode": {
     "languageId": "plaintext"
    }
   },
   "outputs": [],
   "source": [
    "!pip install datasets transformers[torch] renumics-spotlight"
   ]
  },
  {
   "cell_type": "code",
   "execution_count": null,
   "metadata": {},
   "outputs": [],
   "source": [
    "import datasets\n",
    "from renumics import spotlight\n",
    "\n",
    "ds = datasets.load_dataset('cifar100', split='test')\n",
    "ds = ds.select(range(0,100))\n",
    "#spotlight.show(ds)"
   ]
  },
  {
   "cell_type": "code",
   "execution_count": null,
   "metadata": {},
   "outputs": [],
   "source": [
    "import torch\n",
    "import transformers\n",
    "\n",
    "device = torch.device(\"cuda:0\" if torch.cuda.is_available() else \"cpu\")\n",
    "model_name = \"Ahmed9275/Vit-Cifar100\"\n",
    "processor = transformers.ViTImageProcessor.from_pretrained(model_name)\n",
    "cls_model = transformers.ViTForImageClassification.from_pretrained(model_name).to(device)\n",
    "fe_model = transformers.ViTModel.from_pretrained(model_name).to(device)\n",
    "\n",
    "def infer(batch):\n",
    "    images = [image.convert(\"RGB\") for image in batch]\n",
    "    inputs = processor(images=images, return_tensors=\"pt\").to(device)\n",
    "    with torch.no_grad():\n",
    "        outputs = cls_model(**inputs)\n",
    "        probs = torch.nn.functional.softmax(outputs.logits, dim=-1).cpu().numpy()\n",
    "        embeddings = fe_model(**inputs).last_hidden_state[:, 0].cpu().numpy()\n",
    "    preds = probs.argmax(axis=-1)\n",
    "    return {\"prediction\": preds, \"embedding\": embeddings}\n",
    "\n",
    "features = datasets.Features({**ds.features, \"prediction\": ds.features[\"fine_label\"], \"embedding\": datasets.Sequence(feature=datasets.Value(\"float32\"), length=768)})\n",
    "ds_enriched = ds.map(infer, input_columns=\"img\", batched=True, batch_size=2, features=features)"
   ]
  },
  {
   "cell_type": "code",
   "execution_count": null,
   "metadata": {},
   "outputs": [],
   "source": [
    "ds_results = datasets.load_dataset('renumics/spotlight-cifar100-enrichment', split='test')\n",
    "ds_enriched = datasets.concatenate_datasets([ds, ds_results], axis=1)"
   ]
  },
  {
   "cell_type": "code",
   "execution_count": null,
   "metadata": {},
   "outputs": [],
   "source": [
    "layout = spotlight.layouts.debug_classification(label='fine_label', embedding='embedding', inspect={'img': spotlight.dtypes.image_dtype})\n",
    "spotlight.show(ds_enriched, dtype={'embedding': spotlight.Embedding}, layout=layout)"
   ]
  },
  {
   "cell_type": "markdown",
   "metadata": {},
   "source": [
    "On Saturn cloud:\n",
    "\n",
    "First server: [https://cnn-tutorial-1.community.saturnenterprise.io:8000](https://cnn-tutorial-1.community.saturnenterprise.io:8000)\n",
    "\n",
    "Second server: [https://cnn-tutorial-2.community.saturnenterprise.io:8000](https://cnn-tutorial-2.community.saturnenterprise.io:8000)"
   ]
  },
  {
   "cell_type": "code",
   "execution_count": null,
   "metadata": {},
   "outputs": [],
   "source": []
  }
 ],
 "metadata": {
  "kernelspec": {
   "display_name": "Python 3 (ipykernel)",
   "language": "python",
   "name": "python3"
  },
  "language_info": {
   "codemirror_mode": {
    "name": "ipython",
    "version": 3
   },
   "file_extension": ".py",
   "mimetype": "text/x-python",
   "name": "python",
   "nbconvert_exporter": "python",
   "pygments_lexer": "ipython3",
   "version": "3.10.11"
  }
 },
 "nbformat": 4,
 "nbformat_minor": 4
}

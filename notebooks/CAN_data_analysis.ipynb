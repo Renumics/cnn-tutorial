{
 "cells": [
  {
   "cell_type": "markdown",
   "metadata": {},
   "source": [
    "# Analyzing CAN bus data with GPT-4 and DuckDB\n",
    "In this tutorial we will see how to use the parquet file format, the in-process database DuckDB and GPT-4 to perform queries on CAN-bus data."
   ]
  },
  {
   "cell_type": "markdown",
   "metadata": {},
   "source": [
    "## Convert decoded mf4 to parquet"
   ]
  },
  {
   "cell_type": "code",
   "execution_count": 23,
   "metadata": {},
   "outputs": [],
   "source": [
    "from asammdf import MDF\n",
    "\n",
    "with MDF(r\"../data/decoded.mf4\") as mdf:\n",
    "    df = mdf.to_dataframe()\n",
    "    df.to_parquet(\"vehicle_data.parquet\", engine=\"pyarrow\")"
   ]
  },
  {
   "cell_type": "markdown",
   "metadata": {},
   "source": [
    "## Connect with DuckDB"
   ]
  },
  {
   "cell_type": "code",
   "execution_count": null,
   "metadata": {},
   "outputs": [],
   "source": [
    "import duckdb\n",
    "\n",
    "# Connect to an in-memory DuckDB instance\n",
    "conn = duckdb.connect()\n",
    "\n",
    "# Use DESCRIBE to list column details\n",
    "query = \"DESCRIBE SELECT * FROM 'vehicle_data.parquet';\"\n",
    "\n",
    "# Execute the query and get the result as a DataFrame\n",
    "columns_df = conn.execute(query).fetchdf()\n",
    "\n",
    "# Extract and print the column names\n",
    "column_names = columns_df[\"column_name\"].tolist()\n",
    "print(\"Column Names:\", column_names)"
   ]
  },
  {
   "cell_type": "markdown",
   "metadata": {},
   "source": [
    "## Ask GPT-4 about the semantics of the data"
   ]
  },
  {
   "cell_type": "markdown",
   "metadata": {},
   "source": [
    "### Sample query 1\n",
    "\n",
    "Try to query different types of information such as velocity, speed, battery charge, rpm and more..."
   ]
  },
  {
   "cell_type": "markdown",
   "metadata": {},
   "source": [
    "I have a database with vehicle data. It contains with the following channels with time series data:\n",
    "Column Names: ['Service', 'Response', 'Length', 'S01PID', 'S01PID04_CalcEngineLoad', 'S01PID05_EngineCoolantTemp', 'S01PID0B_IntakeManiAbsPress', 'S01PID0C_EngineRPM', 'S01PID0D_VehicleSpeed', 'S01PID11_ThrottlePosition', 'S01PID2F_FuelTankLevel', 'S01PID33_AbsBaroPres', 'S01PID42_ControlModuleVolt', 'S01PID62_ActualEngTorqPct', 'timestamps']\n",
    "\n",
    "I am looking for the following information:\n",
    "engine revolutions per minute\n",
    "\n",
    "If there is no channel with the desired information, the answer: \"There is no channel with the desired information\"\n",
    "If there is one or more channel with the desired information, then answer with the channel names only."
   ]
  },
  {
   "cell_type": "code",
   "execution_count": null,
   "metadata": {},
   "outputs": [],
   "source": []
  },
  {
   "cell_type": "markdown",
   "metadata": {},
   "source": [
    "## Sandbox to execute generated queries on DuckDB"
   ]
  },
  {
   "cell_type": "code",
   "execution_count": 14,
   "metadata": {},
   "outputs": [],
   "source": [
    "# Paste query here\n",
    "query = \"\"\"\n",
    "    PASTE QUERY HERE\n",
    "\"\"\"\n",
    "\n",
    "# Run the query and get the result as a DataFrame\n",
    "df = conn.execute(query).fetchdf()\n",
    "\n",
    "# Display the result\n",
    "print(df)"
   ]
  }
 ],
 "metadata": {
  "kernelspec": {
   "display_name": ".venv",
   "language": "python",
   "name": "python3"
  },
  "language_info": {
   "codemirror_mode": {
    "name": "ipython",
    "version": 3
   },
   "file_extension": ".py",
   "mimetype": "text/x-python",
   "name": "python",
   "nbconvert_exporter": "python",
   "pygments_lexer": "ipython3",
   "version": "3.10.11"
  }
 },
 "nbformat": 4,
 "nbformat_minor": 2
}
